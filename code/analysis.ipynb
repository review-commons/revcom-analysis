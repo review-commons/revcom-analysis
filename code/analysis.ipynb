{
 "cells": [
  {
   "cell_type": "markdown",
   "metadata": {},
   "source": [
    "# Setup"
   ]
  },
  {
   "cell_type": "markdown",
   "metadata": {},
   "source": [
    "Importing libraries listed in `requirements.txt` for plotting (`plotly`) and data (`pandas`). To be able to import `.xlsx` and `.xls` Excel files, both `xlrd` and `openpyxl` libraries are installed. To be able to visualize figures in Jupyter, `nbformat` and `kaleido` are installed."
   ]
  },
  {
   "cell_type": "code",
   "execution_count": null,
   "metadata": {},
   "outputs": [],
   "source": [
    "from pathlib import Path\n",
    "import pandas as pd\n",
    "import plotly.express as px\n",
    "import plotly.graph_objects as go"
   ]
  },
  {
   "cell_type": "markdown",
   "metadata": {},
   "source": [
    "Set the source directory for the data:"
   ]
  },
  {
   "cell_type": "code",
   "execution_count": null,
   "metadata": {},
   "outputs": [],
   "source": [
    "DATA_DIR = \"data\"  # public\n",
    "# DATA_DIR = \"./data\" # not public"
   ]
  },
  {
   "cell_type": "code",
   "execution_count": null,
   "metadata": {},
   "outputs": [],
   "source": [
    "IMG_DIR = \"results\""
   ]
  },
  {
   "cell_type": "markdown",
   "metadata": {},
   "source": [
    "The list of journals (using PubMed abbreviation) of the Review Commons consortium"
   ]
  },
  {
   "cell_type": "code",
   "execution_count": null,
   "metadata": {},
   "outputs": [],
   "source": [
    "REV_COM_CONSORTIUM = [\n",
    "    \"Biol Open\", \"Development\", \"Dis Model Mech\", \"J Cell Sci\", \"Elife\",\n",
    "    \"EMBO J\", \"EMBO Mol Med\", \"EMBO Rep\", \"Mol Syst Biol\", \"Life Sci Alliance\",\n",
    "    \"PLoS Comput Biol\", \"PLoS Genet\", \"PLoS One\", \"PLoS Pathog\", \"PLoS Biol\",\n",
    "    \"Mol Biol Cell\", \"J Cell Biol\",\n",
    "]\n",
    "assert len(REV_COM_CONSORTIUM) == 17  # make sure we did not forget anybody!"
   ]
  },
  {
   "cell_type": "markdown",
   "metadata": {},
   "source": [
    "The date limit for the analysis. Only manuscript submitted BEFORE this date will be included."
   ]
  },
  {
   "cell_type": "code",
   "execution_count": null,
   "metadata": {},
   "outputs": [],
   "source": [
    "LIMIT_DATE = '2021-03-31'"
   ]
  },
  {
   "cell_type": "markdown",
   "metadata": {},
   "source": [
    "# Import data"
   ]
  },
  {
   "cell_type": "markdown",
   "metadata": {},
   "source": [
    "The analyses involve data from 2 sources:\n",
    "\n",
    "- the eJP editorial system: SQL queries used to extract relevant data are provided in `ejp_queries/`\n",
    "- Automated MatchPub2 analysis (https://github.com/embo-press/matchpub): used to retrieve automatically published papers matching with submissions.\n",
    "\n",
    "All the anonymized data required for the analysis are collected in `data_anonym/`."
   ]
  },
  {
   "cell_type": "markdown",
   "metadata": {},
   "source": [
    "Import results from ejp query `ejp_queries/ref_report_content.sql` to analyze referee report content. "
   ]
  },
  {
   "cell_type": "code",
   "execution_count": null,
   "metadata": {},
   "outputs": [],
   "source": [
    "ref_reports = pd.read_excel(f'{DATA_DIR}/query_tool_referee_report_content.xls', skiprows=3, header=0)\n",
    "ref_reports.columns"
   ]
  },
  {
   "cell_type": "markdown",
   "metadata": {},
   "source": [
    "Import results from ejp query `ejp_queries/time_to_ref_preprint.sql` that extracts the time to post the reviews next to the preprint ('refereed preprint')."
   ]
  },
  {
   "cell_type": "code",
   "execution_count": null,
   "metadata": {},
   "outputs": [],
   "source": [
    "ref_pre_print = pd.read_excel(f'{DATA_DIR}/query_tool_time_to_ref_preprint_rc.xls', skiprows=3, header=0)\n",
    "ref_pre_print.columns"
   ]
  },
  {
   "cell_type": "markdown",
   "metadata": {},
   "source": [
    "Import Matchpub2 analysis for Review Commons submission to retrieve articles published within and outside of the consortium of affiliate journals.\n",
    "\n",
    "**Note**: The table was curated manually to remove one false positive.\n",
    "\n",
    "**Note**: a column is added to indicate if a journal belongs or not to the Review Commons consortium (column `in_group` with value `'y'|'n'`)."
   ]
  },
  {
   "cell_type": "code",
   "execution_count": null,
   "metadata": {},
   "outputs": [],
   "source": [
    "rev_com_matchpub = pd.read_excel(f'{DATA_DIR}/revcom-found-2021-02-23-11-05-35.xlsx', engine='openpyxl', header=0)\n",
    "rev_com_matchpub['sub_date'] = rev_com_matchpub['sub_date'].astype('datetime64[ns]')  # make sure of proper datetime type\n",
    "rev_com_matchpub['pub_date'] = rev_com_matchpub['pub_date'].astype('datetime64[ns]')  # make sure of proper datetime type\n",
    "# add a columns in_group to label papers published in a journal of the Revew Commons consortium\n",
    "rev_com_matchpub['in_group'] = 'n'\n",
    "rev_com_matchpub.loc[rev_com_matchpub['journal'].isin(REV_COM_CONSORTIUM), 'in_group'] = 'y'\n",
    "rev_com_matchpub.columns"
   ]
  },
  {
   "cell_type": "markdown",
   "metadata": {},
   "source": [
    "Import Matchpub analyses to retrieve EMBO Press 2018 submissions published in EMBO Press journals and elsewhere. These will be used to estimate a lower bound for the time to publish in a journal."
   ]
  },
  {
   "cell_type": "code",
   "execution_count": null,
   "metadata": {},
   "outputs": [],
   "source": [
    "emboj = pd.read_excel(f'{DATA_DIR}/emboj_2018-found-2021-02-23-11-46-42.xlsx', engine='openpyxl')\n",
    "embor = pd.read_excel(f'{DATA_DIR}/embor_2018-found-2021-02-23-12-03-02.xlsx', engine='openpyxl')\n",
    "embomolmed = pd.read_excel(f'{DATA_DIR}/embomolmed_2018-found-2021-02-23-12-41-59.xlsx', engine='openpyxl')\n",
    "msb = pd.read_excel(f'{DATA_DIR}/msb_2018-found-2021-02-23-12-12-45.xlsx', engine='openpyxl')\n",
    "# fix datetime data type\n",
    "def datetime_dtype(df):\n",
    "    df['sub_date'] = df['sub_date'].astype('datetime64[ns]')\n",
    "    df['pub_date'] = df['pub_date'].astype('datetime64[ns]')\n",
    "for j in [emboj, embor, embomolmed, msb]:\n",
    "    datetime_dtype(j)\n",
    "    print(f\"{len(j)} rows\")"
   ]
  },
  {
   "cell_type": "markdown",
   "metadata": {},
   "source": [
    "Import data from ejp query `aggreg_outcome.sql` on transfer outcomes to affiliate journals and of journal decisions. \n",
    "\n",
    "**Note**: Restrict this dataframe to outcomes for manuscripts that have undergone initial editorial selection or peer review, thereby excluding submission pending for initial ed selection or currently under review.\n"
   ]
  },
  {
   "cell_type": "code",
   "execution_count": null,
   "metadata": {},
   "outputs": [],
   "source": [
    "outcomes = pd.read_excel(f'{DATA_DIR}/query_tool_transfer_outcome_by_manu_rc.xls', engine='xlrd', skiprows=3, header=0)\n",
    "outcomes['sub_date'] = outcomes['sub_date'].astype('datetime64[ns]') # fix datetime data type\n",
    "# restrict proper outcomes to manuscript that have undergone ed selection or peer review \n",
    "outcomes = outcomes[\n",
    "    (outcomes['rev_com_decision'] == \"rejected before review\") |  \n",
    "    (outcomes['rev_com_decision'] == \"suggest posting of reviews\")\n",
    "]\n",
    "outcomes = outcomes[outcomes['sub_date'] <= LIMIT_DATE]\n",
    "outcomes.columns"
   ]
  },
  {
   "cell_type": "markdown",
   "metadata": {},
   "source": [
    "Import data from ejp query `rev_com_accepted.sql` on manuscripts accepted for publication in one of the consortium's journal."
   ]
  },
  {
   "cell_type": "code",
   "execution_count": null,
   "metadata": {},
   "outputs": [],
   "source": [
    "accepted = pd.read_excel(f'{DATA_DIR}/query_tool_accepted_rc_manu.xls', engine='xlrd', skiprows=3, header=0)\n",
    "accepted.columns"
   ]
  },
  {
   "cell_type": "markdown",
   "metadata": {},
   "source": [
    "# Analysis"
   ]
  },
  {
   "cell_type": "markdown",
   "metadata": {},
   "source": [
    "## Referee report content"
   ]
  },
  {
   "cell_type": "markdown",
   "metadata": {},
   "source": [
    "Plot distribution of the length of referee reports. Columns from `ref_reports` used:\n",
    "- `journal`: journal title\n",
    "- `review_len`: length of the reviews in bytes"
   ]
  },
  {
   "cell_type": "code",
   "execution_count": null,
   "metadata": {},
   "outputs": [],
   "source": [
    "ref_reports.columns"
   ]
  },
  {
   "cell_type": "code",
   "execution_count": null,
   "metadata": {},
   "outputs": [],
   "source": [
    "fig = px.box(\n",
    "    ref_reports,\n",
    "    y=\"review_len\",\n",
    "    x=\"journal\",\n",
    "    category_orders={\"journal\": ['emboj', 'embor', 'msb', 'embomolmed', 'reviewcommons']},\n",
    "    color_discrete_sequence=px.colors.qualitative.G10,\n",
    "    points=\"all\",\n",
    "    title=\"Distribution of the length of individual referee reports\",\n",
    "    labels={\"review_len\": \"referee report length [bytes]\"},\n",
    "    color=\"journal\"\n",
    ")\n",
    "fig.update_traces(\n",
    "    marker={\"opacity\": 0.2}\n",
    ")\n",
    "fig.update_layout(showlegend=False)\n",
    "fig.show()\n",
    "fig.write_image(f\"{IMG_DIR}/ref_report_len.png\")"
   ]
  },
  {
   "cell_type": "markdown",
   "metadata": {},
   "source": [
    "## Time to public peer-reviewed research"
   ]
  },
  {
   "cell_type": "markdown",
   "metadata": {},
   "source": [
    "Comparison of time to publish a paper in a journal, with the time to post a Review Commons refereed preprint and time to publish a journal paper through the Review Commons pipeline. "
   ]
  },
  {
   "cell_type": "markdown",
   "metadata": {},
   "source": [
    "Use the `emboj`, `embor`, `msb`, `embomolmed` dataframes to computed time to publish by substracting values of publication date `pub_data` from submission date `sub_date`."
   ]
  },
  {
   "cell_type": "code",
   "execution_count": null,
   "metadata": {},
   "outputs": [],
   "source": [
    "# simple function to compute time to publish for a journal-specific dataframe\n",
    "def time_diff(df: pd.DataFrame) -> pd.DataFrame:\n",
    "    df['time_to_publish'] = df['pub_date'] - df['sub_date']\n",
    "    df['time_to_publish'] = df['time_to_publish'].dt.days  # convert time interval in unit of days\n",
    "    df.loc[df['time_to_publish'] < 0, 'time_to_publish'] = None  # eliminate pot false positives from MatchPub results with data prior to sub date\n",
    "    return df\n",
    "# process our journals\n",
    "df_list = [time_diff(pd) for pd in [emboj, embor, msb, embomolmed]]\n",
    "# concatenate the individual tables in a single one\n",
    "time_to_paper = pd.concat(df_list)\n",
    "time_to_paper['type'] = 'Classical Journals'   # useful for later when plotting as a function of 'type' of publishing channel\n",
    "time_to_paper['color_index'] = \"journals-\" + time_to_paper['decision'] # trick to color accepted vs rejected journal papers"
   ]
  },
  {
   "cell_type": "markdown",
   "metadata": {},
   "source": [
    "The `ref_pre_print` dataframe contains already the time to post the reviews as extracted from the editorial system. "
   ]
  },
  {
   "cell_type": "code",
   "execution_count": null,
   "metadata": {},
   "outputs": [],
   "source": [
    "ref_pre_print['type'] = 'Rev Com<br>Refereed Preprints'  # useful for later when plotting as a function of 'type' of publishing channel\n",
    "ref_pre_print.rename(columns={'time_to_ref_preprint': 'time_to_publish'}, inplace=True)  # rename column to be consisten with the other dataframes\n",
    "ref_pre_print['color_index'] = 'refereed preprints'  # single color\n",
    "ref_pre_print.columns"
   ]
  },
  {
   "cell_type": "markdown",
   "metadata": {},
   "source": [
    "Use the MatchPub2 results for ReviewCommons to calculate the time to publish a paper in a journal of the consortium. \n",
    "Column used:\n",
    "- `sub_date`: submission date to Review ReviewCommons\n",
    "- `pub_date`: publication date of the matching published article as fournd by MatchPub2\n",
    "- `in_group`: whether the journal is within the consoritum (`y`) or outside of the consortium (`n`)\n",
    "\n",
    "In this analysis we restrict to journals that are part of the Review Commons consortium. "
   ]
  },
  {
   "cell_type": "code",
   "execution_count": null,
   "metadata": {},
   "outputs": [],
   "source": [
    "revcom_j = rev_com_matchpub[rev_com_matchpub['in_group'] == 'y'].copy()  # restrict to journals member of the Rev Com consortium\n",
    "revcom_j['time_to_publish'] = rev_com_matchpub['pub_date'] -  rev_com_matchpub['sub_date']\n",
    "revcom_j['time_to_publish'] = revcom_j['time_to_publish'].dt.days\n",
    "revcom_j['type'] = 'Rev Com<br>Affiliate Journals'   # useful for later when plotting as a function of 'type' of publishing channel\n",
    "revcom_j['color_index'] = 'rev com journal'  # single color\n"
   ]
  },
  {
   "cell_type": "markdown",
   "metadata": {},
   "source": [
    "Concatenate:\n",
    "- `time_to_paper` that give time to publish for journal articles, \n",
    "- `ref_pre_preprint` with time to post refereed preprint and \n",
    "- `revcom_j` that give time to publish a journal article through the Review Commons transfer system."
   ]
  },
  {
   "cell_type": "code",
   "execution_count": null,
   "metadata": {},
   "outputs": [],
   "source": [
    "t2p = pd.concat([\n",
    "    time_to_paper[['type', 'time_to_publish', 'color_index']],\n",
    "    ref_pre_print[['type', 'time_to_publish', 'color_index']],\n",
    "    revcom_j[['type', 'time_to_publish', 'color_index']]\n",
    "])\n",
    "t2p.columns\n",
    "t2p['type'].unique()"
   ]
  },
  {
   "cell_type": "markdown",
   "metadata": {},
   "source": [
    "Plot the distributions of time to public peer reviewed research for journals, including papers accepted in EMBO Press journals and rejected papers published elsewhere, for Review Commons refereed preprints and for papers peer reviewed by Review Commons and published in a journals of the consortium."
   ]
  },
  {
   "cell_type": "code",
   "execution_count": null,
   "metadata": {},
   "outputs": [],
   "source": [
    "fig = px.box(\n",
    "    t2p,\n",
    "    y=\"time_to_publish\",\n",
    "\n",
    "    x=\"type\",\n",
    "    color=\"type\",\n",
    "    color_discrete_map={\n",
    "        \"Classical Journals\": \"darkslateblue\",\n",
    "        # \"journals-accepted\": \"darkgreen\",\n",
    "        \"Rev Com<br>Refereed Preprints\": \"crimson\",\n",
    "        \"Rev Com<br>Affiliate Journals\": \"dodgerblue\"\n",
    "    },\n",
    "\n",
    "    # alternative split\n",
    "    # x=\"color_index\",\n",
    "    # color=\"color_index\",\n",
    "    # color_discrete_map={\n",
    "    #     \"journals-accepted\": \"darkgreen\",\n",
    "    #     \"journal-rejected\": \"darkslateblue\",\n",
    "    #     \"refereed rprpint\": \"crimson\",\n",
    "    #     \"rev com journal\": \"dodgerblue\",\n",
    "    # },\n",
    "\n",
    "    points=\"all\",\n",
    "    labels = {\n",
    "        \"time_to_publish\": 'time from submission to public peer reviewed version [days]',\n",
    "        \"type\": \"\",\n",
    "    \n",
    "    },\n",
    "    # title=\"Accelerating the dissemination of peer reviewed research\",\n",
    "    height=700, width=500\n",
    ")\n",
    "fig.update_traces(\n",
    "    marker={\n",
    "        \"opacity\": 0.2\n",
    "    }\n",
    ")\n",
    "fig.update_layout(showlegend=False)\n",
    "fig.show()\n",
    "fig.write_image(f\"{IMG_DIR}/time_to_reviewed_res.png\")"
   ]
  },
  {
   "cell_type": "markdown",
   "metadata": {},
   "source": [
    "List of non-consortium journals that published manuscripts that were reviewed by Rev Com"
   ]
  },
  {
   "cell_type": "code",
   "execution_count": null,
   "metadata": {},
   "outputs": [],
   "source": [
    "non_consortium_j = rev_com_matchpub[rev_com_matchpub['in_group'] == 'n'].copy()\n",
    "reviewed = outcomes.loc[outcomes['rev_com_decision'] == 'suggest posting of reviews', 'manuscript_nm']\n",
    "hemorrhagy = non_consortium_j.loc[non_consortium_j['manuscript_nm'].isin(reviewed), 'journal'].unique()\n",
    "print(\"; \".join(hemorrhagy))\n"
   ]
  },
  {
   "cell_type": "markdown",
   "metadata": {},
   "source": [
    "List of non-consortium journals that published manuscripts that were not reviewed by Rev Com"
   ]
  },
  {
   "cell_type": "code",
   "execution_count": null,
   "metadata": {},
   "outputs": [],
   "source": [
    "not_reviewed = outcomes.loc[outcomes['rev_com_decision'] == 'rejected before review', 'manuscript_nm']\n",
    "post_reject = non_consortium_j.loc[non_consortium_j['manuscript_nm'].isin(not_reviewed), 'journal'].unique()\n",
    "print(\"; \".join(post_reject))"
   ]
  },
  {
   "cell_type": "markdown",
   "metadata": {},
   "source": [
    "## Current manuscript status"
   ]
  },
  {
   "cell_type": "markdown",
   "metadata": {},
   "source": [
    "Visualization of the current status of manuscirpts submitted to Review Commons to analyze the fraction of papers accepted in a journal of the consortium, editorially rejected by Review Commons or that are still in 'transit' through the transfer pipeline. Excluded from this analysis are papers that are 'pending' i.e. that are still under editorial consideration by Review Commons or that are under review."
   ]
  },
  {
   "cell_type": "markdown",
   "metadata": {},
   "source": [
    "Each submission is given its *current* status:\n",
    "- `rejected before review`: manuscript rejected by Review Commons before review.\n",
    "- `0 transfer`: manuscripts that have not yet been transferred to any Review Commons journal.\n",
    "- `1 transfer`, `2 transfers`, `3 transfers`, `4 transfers`: current number of transfers attempted for pending manuscirpts that were NOT yet accepted.\n",
    "- `accept`: manuscript that were accepted for publication in any of the Review Commons consortium journals."
   ]
  },
  {
   "cell_type": "code",
   "execution_count": null,
   "metadata": {},
   "outputs": [],
   "source": [
    " # clean up rare repeated decision\n",
    "outcomes.loc[outcomes['journal_decision'].str.contains('accept') == True, 'journal_decision'] = 'accept' \n",
    "# accepted manuscript\n",
    "outcomes.loc[outcomes['journal_decision'] == 'accept', 'status'] = 'accept'\n",
    "# just in case there are manuscript without Review Commons decision or under review; should be zero\n",
    "outcomes.loc[outcomes['rev_com_decision'].isnull(), 'status'] = 'pending'\n",
    "# manuscript reject befoe review by Review Commons\n",
    "outcomes.loc[outcomes['rev_com_decision'] == 'rejected before review', 'status'] = 'rejected before review'\n",
    "# zero transfers would include both editorial rejects and post review manu; restricting to post review here\n",
    "outcomes.loc[(outcomes['rev_com_decision'] == 'suggest posting of reviews') & (outcomes['num_transfers'] == 0), 'status'] = '0 transfer'\n",
    "# current number of transfer attempts for manuscript that are still pending in the journal pipeline\n",
    "outcomes.loc[(outcomes['journal_decision'] != 'accept') & (outcomes['num_transfers'] == 1), 'status'] = '1 transfer'\n",
    "outcomes.loc[(outcomes['journal_decision'] != 'accept') & (outcomes['num_transfers'] == 2), 'status'] = '2 transfers'\n",
    "outcomes.loc[(outcomes['journal_decision'] != 'accept') & (outcomes['num_transfers'] == 3), 'status'] = '3 transfers'\n",
    "outcomes.loc[(outcomes['journal_decision'] != 'accept') & (outcomes['num_transfers'] == 4), 'status'] = '4 transfers'\n",
    "viz = outcomes.groupby('status').count()  # makes status index\n",
    "# order the rows for visualization\n",
    "viz = viz.loc[['accept', 'rejected before review', '0 transfer', '1 transfer', '2 transfers', '3 transfers', '4 transfers'], 'manuscript_nm']\n",
    "# re-inserts 'status' as column so that can be used a facet for viz\n",
    "viz = viz.reset_index()\n",
    "viz\n"
   ]
  },
  {
   "cell_type": "code",
   "execution_count": null,
   "metadata": {},
   "outputs": [],
   "source": [
    "fig = go.Figure(\n",
    "    data=[go.Pie(\n",
    "        labels=list(viz['status']),\n",
    "        values=list(viz['manuscript_nm']),\n",
    "        pull=[0.1, 0, 0, 0, 0, 0, 0],\n",
    "        sort=False,\n",
    "        direction='clockwise',\n",
    "    )],\n",
    "    layout=go.Layout(\n",
    "        height=600, width=600,\n",
    "        title_text=\"Current manuscript status\",\n",
    "        title_font_size=30\n",
    "    )\n",
    ")\n",
    "colors = {\n",
    "    \"rejected before review\": \"darkred\",\n",
    "    \"0 transfer\": \"lightgray\",\n",
    "    \"1 transfer\": \"gainsboro\",\n",
    "    \"2 transfers\": \"darkgrey\",\n",
    "    \"3 transfers\": \"grey\",\n",
    "    \"4 transfers\": \"dimgrey\",\n",
    "    \"accept\": \"forestgreen\"\n",
    "}\n",
    "fig.update_traces(\n",
    "\n",
    "    textposition='outside',\n",
    "    textinfo='label+value+percent',\n",
    "    textfont_size=12,\n",
    "    marker=dict(\n",
    "        # line=dict(\n",
    "        #     width=0.5,\n",
    "        #     color='White'\n",
    "        # ),\n",
    "        colors=[colors[k] for k in list(viz['status'])]\n",
    "    )\n",
    ")\n",
    "fig.show()\n",
    "fig.write_image(f\"{IMG_DIR}/transfer_status.png\")"
   ]
  },
  {
   "cell_type": "markdown",
   "metadata": {},
   "source": [
    "## Accepted manuscripts"
   ]
  },
  {
   "cell_type": "markdown",
   "metadata": {},
   "source": [
    "Distribution of the journals having accepted Review Commons manuscripts."
   ]
  },
  {
   "cell_type": "code",
   "execution_count": null,
   "metadata": {},
   "outputs": [],
   "source": [
    "accepted_by_journal = accepted.groupby('journal').count()\n",
    "accepted_by_journal = accepted_by_journal['manuscript_nm']\n",
    "accepted_by_journal = accepted_by_journal.loc[[\n",
    "    'plosbio', 'plosgen', 'plospath', 'ploscomp', 'plosone',\n",
    "    'emboj', 'er', 'msb', 'emm', 'lsa',\n",
    "    'elife',\n",
    "    'jcs', 'dev', 'dmm', 'biolopen',\n",
    "    'jcb',\n",
    "    'mboc'\n",
    "]]\n",
    "accepted_by_journal"
   ]
  },
  {
   "cell_type": "code",
   "execution_count": null,
   "metadata": {},
   "outputs": [],
   "source": [
    "fig = go.Figure(\n",
    "    data=[go.Pie(\n",
    "        labels=list(accepted_by_journal.index),\n",
    "        values=list(accepted_by_journal),\n",
    "        sort=False,\n",
    "        direction='clockwise',   \n",
    "    )]\n",
    ")\n",
    "colors = {\n",
    "    'plosbio': 'maroon', 'plosgen': 'darkred', 'plospath': 'brown', 'ploscomp': 'firebrick', 'plosone':  'indianred',\n",
    "    'emboj': \"darkgreen\", 'er': 'forestgreen', 'msb': \"limegreen\", 'emm': 'lightgreen', 'lsa': \"palegreen\",\n",
    "    'elife': 'gold',\n",
    "    'jcs': 'midnightblue', 'dev': 'mediumblue', 'dmm': 'dodgerblue', 'biolopen': 'skyblue',\n",
    "    'jcb': 'peru',\n",
    "    'mboc': 'rebeccapurple'\n",
    "}\n",
    "fig.update_traces(\n",
    "    textposition='outside',\n",
    "    textinfo='label+percent',\n",
    "    textfont_size=10,\n",
    "    marker={\n",
    "        \"line\":{\n",
    "            \"width\": 0.5,\n",
    "            \"color\": 'White'\n",
    "        },\n",
    "        \"colors\": [colors[k] for k in list(accepted_by_journal.index)]\n",
    "    }\n",
    ")\n",
    "fig.show()\n",
    "fig.write_image(f\"{IMG_DIR}/accepted_manu.png\")"
   ]
  },
  {
   "cell_type": "markdown",
   "metadata": {},
   "source": [
    "## Manuscript flow"
   ]
  },
  {
   "cell_type": "markdown",
   "metadata": {},
   "source": [
    "To visualize the flow of manuscript through the Review Commons system, the following quantities are computed:\n",
    "- preprint_available: submissions for which a preprint is available\n",
    "- no_prepint: submission for which there is no preprint\n",
    "- revcom2rejected: submission rejected from Rev Com (these are also, by definition, never transferred)\n",
    "- revcom2one: submissions transferred to frst journals (all submissions - submission with zero transfers, including ed rej)\n",
    "- rejected2inside: rejected by Rev Com and published inside the consortium\n",
    "- rejected2outside: rejected by Rev Com and published outside of the consortium\n",
    "- one2two: submission transferred to a second journal\n",
    "- one2accept_inside: submission accepted after first transfer in a consortium journal\n",
    "- one2accept_outside: submission accepted after first transfer in a consortium journal\n",
    "- two2three, two2accept_inside, two2accept_outside: same with flux after two transfers to third transfer or to acceptance\n",
    "- three2four, three2accept_inside, three2accept_outside: same with flux after three transfer to fourth or to acceptance\n",
    "- four2accept_inside, four2accept_outside: flux from terminal fourth transfer to acceptance.\n"
   ]
  },
  {
   "cell_type": "markdown",
   "metadata": {},
   "source": [
    "Count manuscripts for which there is a preprint and those for which there is no preprint."
   ]
  },
  {
   "cell_type": "code",
   "execution_count": null,
   "metadata": {},
   "outputs": [],
   "source": [
    "preprint_availability = outcomes.groupby('preprint').count()\n",
    "preprint_availability = preprint_availability['manuscript_nm']\n",
    "preprint_available = preprint_availability['Yes']\n",
    "no_preprint = preprint_availability['No']\n",
    "preprint_available, no_preprint"
   ]
  },
  {
   "cell_type": "markdown",
   "metadata": {},
   "source": [
    "Review Commons editorial rejections."
   ]
  },
  {
   "cell_type": "code",
   "execution_count": null,
   "metadata": {},
   "outputs": [],
   "source": [
    "ed_selection = outcomes.groupby('rev_com_decision').count()\n",
    "ed_selection = ed_selection['manuscript_nm']\n",
    "ed_rejected = ed_selection['rejected before review']\n",
    "ed_rejected"
   ]
  },
  {
   "cell_type": "markdown",
   "metadata": {},
   "source": [
    "From MatchPub2 results, retrieve the number of editorially rejected manuscript eventually published inside and outside the group of Rev Com journals."
   ]
  },
  {
   "cell_type": "code",
   "execution_count": null,
   "metadata": {},
   "outputs": [],
   "source": [
    "published_after_ed_rej = rev_com_matchpub.query(\"(decision == 'rejected before review')\")\n",
    "published_after_ed_rej = published_after_ed_rej.groupby('in_group').count()\n",
    "published_after_ed_rej = published_after_ed_rej['manuscript_nm']\n",
    "published_after_ed_rej"
   ]
  },
  {
   "cell_type": "markdown",
   "metadata": {},
   "source": [
    "Determine the number of transfers for manuscripts published outside of the Review Commons consortium."
   ]
  },
  {
   "cell_type": "code",
   "execution_count": null,
   "metadata": {},
   "outputs": [],
   "source": [
    "published_outside = rev_com_matchpub.loc[\n",
    "    rev_com_matchpub[\"in_group\"] == 'n',\n",
    "    ['manuscript_nm', 'journal', 'in_group']\n",
    "]\n",
    "published_outside.rename(columns={'journal': 'external_jou'}, inplace=True)\n",
    "published_outside.columns"
   ]
  },
  {
   "cell_type": "code",
   "execution_count": null,
   "metadata": {},
   "outputs": [],
   "source": [
    "merged = pd.merge(\n",
    "    left=outcomes,\n",
    "    right=published_outside,\n",
    "    on='manuscript_nm',\n",
    "    how='left'\n",
    ")\n",
    "merged"
   ]
  },
  {
   "cell_type": "code",
   "execution_count": null,
   "metadata": {},
   "outputs": [],
   "source": [
    "external_jou = merged[merged['external_jou'].notnull()]\n",
    "external_jou = external_jou.groupby('num_transfers').count()\n",
    "external_jou = external_jou['manuscript_nm']\n",
    "external_jou"
   ]
  },
  {
   "cell_type": "markdown",
   "metadata": {},
   "source": [
    "The current number of transfers for all manuscripts (remember that zero transfers include editorial rejections from Rev Com.)"
   ]
  },
  {
   "cell_type": "code",
   "execution_count": null,
   "metadata": {},
   "outputs": [],
   "source": [
    "num_transfers = outcomes.groupby('num_transfers').count()\n",
    "num_transfers = num_transfers['manuscript_nm']\n",
    "num_transfers"
   ]
  },
  {
   "cell_type": "markdown",
   "metadata": {},
   "source": [
    "Sanity check on total number of Rev Com submissions."
   ]
  },
  {
   "cell_type": "code",
   "execution_count": null,
   "metadata": {},
   "outputs": [],
   "source": [
    "assert num_transfers.sum() == preprint_availability.sum()  # sanity check\n",
    "total = num_transfers.sum()\n",
    "total"
   ]
  },
  {
   "cell_type": "markdown",
   "metadata": {},
   "source": [
    "Current number of transfers (this is NOT equal to the flow!)"
   ]
  },
  {
   "cell_type": "code",
   "execution_count": null,
   "metadata": {},
   "outputs": [],
   "source": [
    "zero_transfers = num_transfers[0]\n",
    "zero_transfers"
   ]
  },
  {
   "cell_type": "markdown",
   "metadata": {},
   "source": [
    "For each current transfer status, count those that were accepted in a journal of the consoritum (rejections are irrelevant here)"
   ]
  },
  {
   "cell_type": "code",
   "execution_count": null,
   "metadata": {},
   "outputs": [],
   "source": [
    "one_transfer = outcomes.loc[outcomes['num_transfers'] == 1]\n",
    "one_transfer = one_transfer.groupby('journal_decision').count()\n",
    "one_transfer = one_transfer['manuscript_nm']\n",
    "one_transfer"
   ]
  },
  {
   "cell_type": "code",
   "execution_count": null,
   "metadata": {},
   "outputs": [],
   "source": [
    "two_transfers = outcomes.loc[outcomes['num_transfers'] == 2]\n",
    "two_transfers = two_transfers.groupby('journal_decision').count()\n",
    "two_transfers = two_transfers['manuscript_nm']\n",
    "two_transfers\n"
   ]
  },
  {
   "cell_type": "code",
   "execution_count": null,
   "metadata": {},
   "outputs": [],
   "source": [
    "three_transfers = outcomes.loc[outcomes['num_transfers'] == 3]\n",
    "three_transfers = three_transfers.groupby('journal_decision').count()\n",
    "three_transfers = three_transfers['manuscript_nm']\n",
    "three_transfers"
   ]
  },
  {
   "cell_type": "code",
   "execution_count": null,
   "metadata": {},
   "outputs": [],
   "source": [
    "four_transfers = outcomes.loc[outcomes['num_transfers'] == 4]\n",
    "four_transfers = four_transfers.groupby('journal_decision').count()\n",
    "four_transfers = four_transfers['manuscript_nm']\n",
    "four_transfers"
   ]
  },
  {
   "cell_type": "code",
   "execution_count": null,
   "metadata": {},
   "outputs": [],
   "source": [
    "# mau transferred to first journal are all those that are not currently with zero trasnfer\n",
    "# note that zero transfer includes pending manu that were never transferred\n",
    "# as well as editorially rejected manu, that are never transferred by definition\n",
    "revcom2one = total - zero_transfers\n",
    "revcom2rejected = ed_rejected\n",
    "\n",
    "rejected2inside = published_after_ed_rej['y']\n",
    "rejected2outside = published_after_ed_rej['n']\n",
    "\n",
    "one2two = revcom2one - num_transfers[1]\n",
    "one2accept_inside = one_transfer['accept']\n",
    "one2accept_outside = external_jou[1]\n",
    "\n",
    "two2three = one2two - num_transfers[2]\n",
    "two2accept_inside = two_transfers['accept']\n",
    "two2accept_outside = external_jou[2]\n",
    "\n",
    "three2four = two2three - num_transfers[3]\n",
    "three2accept_inside = three_transfers['accept']\n",
    "three2accept_outside = external_jou[3]\n",
    "\n",
    "four2accept_inside = four_transfers['accept']\n",
    "four2accept_outside =  0# =external_jou[4]\n",
    "print(\"total\", total)\n",
    "print(\"revcom2one, revcom2rejected\", revcom2one, revcom2rejected)\n",
    "print(\"rejected2inside, rejected2outside\", rejected2inside, rejected2outside)\n",
    "print(\"one2two, one2accept_inside, one2accept_outside\", one2two, one2accept_inside, one2accept_outside)\n",
    "print(\"two2three, two2accept_inside, two2accept_outside\", two2three, two2accept_inside, two2accept_outside) \n",
    "print(\"three2four, three2accept_inside, three2accept_outside\", three2four, three2accept_inside, three2accept_outside)\n",
    "print(\"four2accept_inside, four2accept_outside\", four2accept_inside, four2accept_outside)"
   ]
  },
  {
   "cell_type": "markdown",
   "metadata": {},
   "source": [
    "Average number of transfers for accepted papers"
   ]
  },
  {
   "cell_type": "code",
   "execution_count": null,
   "metadata": {},
   "outputs": [],
   "source": [
    "avg_transfer = outcomes.loc[outcomes['journal_decision'] == 'accept', 'num_transfers'].mean()\n",
    "avg_transfer"
   ]
  },
  {
   "cell_type": "code",
   "execution_count": null,
   "metadata": {},
   "outputs": [],
   "source": [
    "def prct(x):\n",
    "    percent_total = f\"{int(100*x/int(total))}%\"\n",
    "    return percent_total"
   ]
  },
  {
   "cell_type": "code",
   "execution_count": null,
   "metadata": {},
   "outputs": [],
   "source": [
    "nodes = {\n",
    "    \"label\":  [\"preprint\", \"no preprint\", \"rev com\", \"rev com reject\", \"1st j\", \"2nd j\", \"3rd j\", \"4th j\", \"accept inside\", \"accept outside\"],\n",
    "    \"x\":      [0.1,        0.1,           0.25,      0.4,              0.4,     0.5,     0.6,     0.7,     0.9,             0.9             ],\n",
    "    \"y\":      [0.1,        0.8,           0.50,      0.8,              0.30,    0.35,     0.38,    0.4,     0.1,             0.8             ],\n",
    "    \"colors\": [\"maroon\", \"darkgoldenrod\", \"midnightblue\", \"black\", \"midnightblue\", \"midnightblue\", \"midnightblue\", \"midnightblue\", \"green\", \"forestgreen\"]\n",
    "}\n",
    "flows = [\n",
    "    # from       to         value                position\n",
    "    (\"preprint\", \"rev com\", preprint_available, (0.16, 0.78)),\n",
    "    (\"no preprint\", \"rev com\", no_preprint, (0.16, 0.28)),\n",
    "    (\"rev com\", \"rev com reject\", revcom2rejected, (0.3, 0.15)),\n",
    "    (\"rev com\", \"1st j\", revcom2one, (0.3, 0.7)),\n",
    "    (\"rev com reject\", \"accept inside\", rejected2inside, (0.55, 0.35)),\n",
    "    (\"rev com reject\", \"accept outside\", rejected2outside, (0.6, 0.18)),\n",
    "    (\"1st j\", \"2nd j\", one2two, (0.45, 0.65)), \n",
    "    (\"1st j\", \"accept inside\", one2accept_inside, (0.7, 1.05)),\n",
    "    (\"1st j\", \"accept outside\", one2accept_outside, (0.7, 0.3)),\n",
    "    (\"2nd j\", \"3rd j\", two2three, (0.55, 0.58)),\n",
    "    (\"2nd j\", \"accept inside\", two2accept_inside, (0.75, 0.88)),\n",
    "    (\"2nd j\", \"accept outside\", two2accept_outside, (0.7, 0.4)),\n",
    "    (\"3rd j\", \"4th j\", three2four, (0.67, 0.58)),\n",
    "    (\"3rd j\", \"accept inside\", three2accept_inside, (0.8, 0.8)),\n",
    "    (\"3rd j\", \"accept outside\", three2accept_outside, (0.75, 0.45)),\n",
    "    (\"4th j\", \"accept inside\", four2accept_inside, (0.82, 0.7)),\n",
    "    (\"4th j\", \"accept outside\", four2accept_outside, (10, 10))\n",
    "]\n",
    "sources = [nodes['label'].index(f[0]) for f in flows]\n",
    "targets = [nodes['label'].index(f[1]) for f in flows]\n",
    "values = [f[2] for f in flows]\n",
    "percentages = [prct(f[2]) for f in flows]\n",
    "annot_coord = {\n",
    "    \"x\": [f[3][0] for f in flows],\n",
    "    \"y\": [f[3][1] for f in flows]\n",
    "}"
   ]
  },
  {
   "cell_type": "code",
   "execution_count": null,
   "metadata": {},
   "outputs": [],
   "source": [
    "fig = go.Figure(data=[\n",
    "    go.Sankey(\n",
    "        # arrangement=\"snap\",   \n",
    "        node = {\n",
    "            \"pad\": 20,\n",
    "            \"thickness\": 20,\n",
    "            \"line\":{\"color\": \"white\", \"width\": 0.5},\n",
    "            \"label\": nodes['label'],\n",
    "            \"x\":     nodes['x'],\n",
    "            \"y\":     nodes['y'],\n",
    "            \"color\": nodes['colors'],\n",
    "        },\n",
    "        link = {\n",
    "            \"source\": sources,\n",
    "            \"target\": targets,\n",
    "            \"value\":  values,\n",
    "            \"color\": \"rgba(100, 100, 100, 0.1)\",\n",
    "            \"label\": percentages,\n",
    "        },\n",
    "    )\n",
    "])\n",
    "for i in range(len(flows)):\n",
    "    fig.add_annotation(\n",
    "        xref=\"paper\", yref=\"paper\",\n",
    "        x=annot_coord['x'][i], y=annot_coord['y'][i],\n",
    "        text=percentages[i],\n",
    "        showarrow=False\n",
    ")\n",
    "fig.add_annotation(\n",
    "    x=1.1, y=0.95, xref=\"paper\", yref=\"paper\",\n",
    "    text=f\"Average number<br>of transfers:<br>{avg_transfer:.2f}\",\n",
    "    showarrow=False,\n",
    "    font={\"size\": 12}\n",
    ")\n",
    "fig.update_layout(title_text=\"Transfer flux and outcomes\", font_size=10)\n",
    "fig.show()\n",
    "fig.write_image(f\"{IMG_DIR}/manu_flow.png\")"
   ]
  },
  {
   "cell_type": "code",
   "execution_count": null,
   "metadata": {},
   "outputs": [],
   "source": []
  }
 ],
 "metadata": {
  "kernelspec": {
   "display_name": "Python 3",
   "language": "python",
   "name": "python3"
  },
  "language_info": {
   "codemirror_mode": {
    "name": "ipython",
    "version": 3
   },
   "file_extension": ".py",
   "mimetype": "text/x-python",
   "name": "python",
   "nbconvert_exporter": "python",
   "pygments_lexer": "ipython3",
   "version": "3.6.8-final"
  }
 },
 "nbformat": 4,
 "nbformat_minor": 2
}